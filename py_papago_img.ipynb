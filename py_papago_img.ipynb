{
  "cells": [
    {
      "cell_type": "markdown",
      "metadata": {
        "id": "view-in-github",
        "colab_type": "text"
      },
      "source": [
        "<a href=\"https://colab.research.google.com/github/kangwonlee/py_papago_img/blob/dev/py_papago_img.ipynb\" target=\"_parent\"><img src=\"https://colab.research.google.com/assets/colab-badge.svg\" alt=\"Open In Colab\"/></a>"
      ]
    },
    {
      "cell_type": "code",
      "execution_count": null,
      "id": "99ecf11c",
      "metadata": {
        "id": "99ecf11c"
      },
      "outputs": [],
      "source": [
        "import base64\n",
        "import functools\n",
        "import getpass\n",
        "import json\n",
        "import pathlib\n",
        "import uuid\n",
        "\n",
        "import requests\n",
        "\n"
      ]
    },
    {
      "cell_type": "code",
      "execution_count": null,
      "id": "70sCEm-7sCQg",
      "metadata": {
        "id": "70sCEm-7sCQg"
      },
      "outputs": [],
      "source": [
        "try:\n",
        "  import requests_toolbelt\n",
        "except ImportError:\n",
        "  !pip install requests_toolbelt\n",
        "  import requests_toolbelt\n",
        "\n"
      ]
    },
    {
      "cell_type": "markdown",
      "source": [
        "## Get secret"
      ],
      "metadata": {
        "id": "lUfkJPFXwnSj"
      },
      "id": "lUfkJPFXwnSj"
    },
    {
      "cell_type": "code",
      "source": [
        "@functools.lru_cache(maxsize=1)\n",
        "def get_secret():\n",
        "  return getpass.getpass('secret')\n",
        "\n"
      ],
      "metadata": {
        "id": "b3idvwPYwmZP"
      },
      "id": "b3idvwPYwmZP",
      "execution_count": null,
      "outputs": []
    },
    {
      "cell_type": "markdown",
      "source": [
        "## Save sample image"
      ],
      "metadata": {
        "id": "Mtx3R8_bvJTA"
      },
      "id": "Mtx3R8_bvJTA"
    },
    {
      "cell_type": "code",
      "source": [
        "sample_img_path = pathlib.Path('sample_en.png')\n",
        "\n"
      ],
      "metadata": {
        "id": "9XV801LJvRqD"
      },
      "id": "9XV801LJvRqD",
      "execution_count": null,
      "outputs": []
    },
    {
      "cell_type": "code",
      "execution_count": null,
      "id": "ff86106d",
      "metadata": {
        "id": "ff86106d"
      },
      "outputs": [],
      "source": [
        "def save_sample_img(write_path:pathlib.Path=pathlib.Path('sample_en.png')):\n",
        "    url = 'https://github.com/kangwonlee/py_papago_img/blob/dev/sample_en.png'\n",
        "    response = requests.get(url)\n",
        "    img = response.content\n",
        "\n",
        "    write_path.write_bytes(img)\n",
        "\n"
      ]
    },
    {
      "cell_type": "code",
      "source": [
        "save_sample_img(sample_img_path)\n",
        "\n"
      ],
      "metadata": {
        "id": "c5xywguovLvC"
      },
      "id": "c5xywguovLvC",
      "execution_count": null,
      "outputs": []
    },
    {
      "cell_type": "markdown",
      "source": [
        "## Translate image\n",
        "* ko : https://api.ncloud-docs.com/docs/ai-naver-imagetoimageapi\n",
        "* en : https://api.ncloud-docs.com/docs/en/ai-naver-imagetoimageapi\n",
        "\n"
      ],
      "metadata": {
        "id": "KBkf3dk4vN9D"
      },
      "id": "KBkf3dk4vN9D"
    },
    {
      "cell_type": "code",
      "execution_count": null,
      "id": "HSc_9w5osQX0",
      "metadata": {
        "id": "HSc_9w5osQX0"
      },
      "outputs": [],
      "source": [
        "def translate_img(image_path:str, src:str, tgt:str, tgt_folder:pathlib.Path, User_client_ID:str, User_client_secret:str):\n",
        "    data = {\n",
        "    'source': src,\n",
        "    'target': tgt,\n",
        "    'image': (image_path, open(image_path, 'rb'), 'application/octet-stream', {'Content-Transfer-Encoding': 'binary'})\n",
        "    }\n",
        "    m = requests_toolbelt.MultipartEncoder(data, boundary=uuid.uuid4())\n",
        "\n",
        "    headers = {\n",
        "    \"Content-Type\": m.content_type,\n",
        "    \"X-NCP-APIGW-API-KEY-ID\": User_client_ID,\n",
        "    \"X-NCP-APIGW-API-KEY\": User_client_secret\n",
        "    }\n",
        "\n",
        "    url = \" https://naveropenapi.apigw.ntruss.com/image-to-image/v1/translate\"\n",
        "    res = requests.post(url, headers=headers, data=m.to_string())\n",
        "    print(res.text)\n",
        "\n",
        "    assert not res.json().get('error'), res.json().get('error')\n",
        "\n",
        "    # renderedImage -> Image output\n",
        "    resObj = json.loads(res.text)\n",
        "    imageStr = resObj.get(\"data\").get(\"renderedImage\")\n",
        "    imgdata = base64.b64decode(imageStr)\n",
        "\n",
        "    tgt_path = tgt_folder / pathlib.Path(image_path).name\n",
        "    tgt_path.write_bytes(imgdata)\n",
        "\n"
      ]
    },
    {
      "cell_type": "code",
      "source": [
        "target_folder = pathlib.Path('target')\n",
        "target_folder.mkdir(exist_ok=True)\n",
        "translate_img(\n",
        "    sample_img_path.name, 'en', 'ko', target_folder,\n",
        "    'fAcX3gC0PUBOm6appn5v', get_secret()\n",
        ")\n",
        "\n"
      ],
      "metadata": {
        "id": "TA4aHsNqvW89"
      },
      "id": "TA4aHsNqvW89",
      "execution_count": null,
      "outputs": []
    },
    {
      "cell_type": "code",
      "source": [],
      "metadata": {
        "id": "NZldFc2SxlcH"
      },
      "id": "NZldFc2SxlcH",
      "execution_count": null,
      "outputs": []
    }
  ],
  "metadata": {
    "colab": {
      "provenance": [],
      "include_colab_link": true
    },
    "kernelspec": {
      "display_name": "Python 3 (ipykernel)",
      "language": "python",
      "name": "python3"
    },
    "language_info": {
      "codemirror_mode": {
        "name": "ipython",
        "version": 3
      },
      "file_extension": ".py",
      "mimetype": "text/x-python",
      "name": "python",
      "nbconvert_exporter": "python",
      "pygments_lexer": "ipython3",
      "version": "3.10.10"
    }
  },
  "nbformat": 4,
  "nbformat_minor": 5
}
