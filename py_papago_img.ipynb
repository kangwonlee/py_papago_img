{
  "cells": [
    {
      "cell_type": "markdown",
      "metadata": {
        "colab_type": "text",
        "id": "view-in-github"
      },
      "source": [
        "<a href=\"https://colab.research.google.com/github/kangwonlee/py_papago_img/blob/dev/py_papago_img.ipynb\" target=\"_parent\"><img src=\"https://colab.research.google.com/assets/colab-badge.svg\" alt=\"Open In Colab\"/></a>"
      ]
    },
    {
      "cell_type": "code",
      "execution_count": null,
      "id": "99ecf11c",
      "metadata": {
        "id": "99ecf11c"
      },
      "outputs": [],
      "source": [
        "import requests\n",
        "import uuid\n",
        "import json\n",
        "import base64\n",
        "import pathlib\n",
        "\n"
      ]
    },
    {
      "cell_type": "code",
      "execution_count": null,
      "id": "70sCEm-7sCQg",
      "metadata": {
        "id": "70sCEm-7sCQg"
      },
      "outputs": [],
      "source": [
        "try:\n",
        "  import requests_toolbelt\n",
        "except ImportError:\n",
        "  !pip install requests_toolbelt\n",
        "  import requests_toolbelt\n",
        "\n"
      ]
    },
    {
      "cell_type": "code",
      "execution_count": null,
      "id": "ff86106d",
      "metadata": {},
      "outputs": [],
      "source": [
        "def save_sample_img(write_path:pathlib.Path=pathlib.Path('sample_en.png')):\n",
        "    url = 'https://github.com/kangwonlee/py_papago_img/blob/dev/sample_en.png'\n",
        "    response = requests.get(url)\n",
        "    img = response.content\n",
        "\n",
        "    write_path.write_bytes(img)\n",
        "\n"
      ]
    },
    {
      "cell_type": "code",
      "execution_count": null,
      "id": "HSc_9w5osQX0",
      "metadata": {
        "id": "HSc_9w5osQX0"
      },
      "outputs": [],
      "source": [
        "def translate_img(image_path, src:str, tgt:str, tgt_folder:pathlib.Path, User_client_ID:str, User_client_secret:str):\n",
        "    data = {\n",
        "    'source': src,\n",
        "    'target': tgt,\n",
        "    'image': (image_path, open(image_path, 'rb'), 'application/octet-stream', {'Content-Transfer-Encoding': 'binary'})\n",
        "    }\n",
        "    m = requests_toolbelt.MultipartEncoder(data, boundary=uuid.uuid4())\n",
        "\n",
        "    headers = {\n",
        "    \"Content-Type\": m.content_type,\n",
        "    \"X-NCP-APIGW-API-KEY-ID\": User_client_ID,\n",
        "    \"X-NCP-APIGW-API-KEY\": User_client_secret\n",
        "    }\n",
        "\n",
        "    url = \" https://naveropenapi.apigw.ntruss.com/image-to-image/v1/translate\"\n",
        "    res = requests.post(url, headers=headers, data=m.to_string())\n",
        "    print(res.text)\n",
        "\n",
        "    # renderedImage -> Image output\n",
        "    resObj = json.loads(res.text)\n",
        "    imageStr = resObj.get(\"data\").get(\"renderedImage\")\n",
        "    imgdata = base64.b64decode(imageStr)\n",
        "\n",
        "    tgt_path = tgt_folder / image_path.name\n",
        "    tgt_path.write_bytes(imgdata)\n",
        "\n"
      ]
    }
  ],
  "metadata": {
    "colab": {
      "include_colab_link": true,
      "provenance": []
    },
    "kernelspec": {
      "display_name": "Python 3 (ipykernel)",
      "language": "python",
      "name": "python3"
    },
    "language_info": {
      "codemirror_mode": {
        "name": "ipython",
        "version": 3
      },
      "file_extension": ".py",
      "mimetype": "text/x-python",
      "name": "python",
      "nbconvert_exporter": "python",
      "pygments_lexer": "ipython3",
      "version": "3.10.10"
    }
  },
  "nbformat": 4,
  "nbformat_minor": 5
}
